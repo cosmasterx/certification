{
 "cells": [
  {
   "cell_type": "markdown",
   "id": "cfbd7d42-c9fc-44a5-8f61-4f03f3177e20",
   "metadata": {},
   "source": [
    "# My Jupyter Notebook on IBM Watson Studio"
   ]
  },
  {
   "cell_type": "markdown",
   "id": "cecc39d9-7380-4772-8dbc-6286eca5d871",
   "metadata": {},
   "source": [
    "<b>Cosmin Popa</b> <br> Student"
   ]
  },
  {
   "cell_type": "markdown",
   "id": "2772420e-6cae-40c5-becd-c15ebe7709ed",
   "metadata": {},
   "source": [
    "* I am intrerested in data science because it is a field that will have the biggest impact on the future development of technology."
   ]
  },
  {
   "cell_type": "markdown",
   "id": "31d9b254-4563-4bbe-838c-5a440642b46a",
   "metadata": {},
   "source": [
    "### It should print the message \"I like Data Science\""
   ]
  },
  {
   "cell_type": "code",
   "execution_count": 3,
   "id": "442ebda4-fa9c-4a0b-9b18-a311e15057fa",
   "metadata": {},
   "outputs": [
    {
     "name": "stdout",
     "output_type": "stream",
     "text": [
      "I like Data Science\n"
     ]
    }
   ],
   "source": [
    "print(\"I like Data Science\")"
   ]
  },
  {
   "cell_type": "markdown",
   "id": "5507f81f-59f1-4eb1-9f89-0c1a84f39476",
   "metadata": {},
   "source": [
    "\n",
    "---\n",
    "\n",
    "\n",
    "<ul>\n",
    "    <li>Good</li>\n",
    "    <li>Very Good</li>\n",
    "    <li>Perfect</li>\n",
    "</ul>\n",
    "\n",
    "<ol>\n",
    "<li>Try</li>\n",
    "<li>Fail</li>\n",
    "<li>Improve</li>\n",
    "</ol>\n",
    "\n"
   ]
  }
 ],
 "metadata": {
  "kernelspec": {
   "display_name": "Python",
   "language": "python",
   "name": "conda-env-python-py"
  },
  "language_info": {
   "codemirror_mode": {
    "name": "ipython",
    "version": 3
   },
   "file_extension": ".py",
   "mimetype": "text/x-python",
   "name": "python",
   "nbconvert_exporter": "python",
   "pygments_lexer": "ipython3",
   "version": "3.7.12"
  }
 },
 "nbformat": 4,
 "nbformat_minor": 5
}
